{
 "cells": [
  {
   "cell_type": "markdown",
   "metadata": {},
   "source": [
    "# Projet Final Apache Spark"
   ]
  },
  {
   "cell_type": "markdown",
   "metadata": {},
   "source": [
    "**Nom Etudiant : DIATTA**  \n",
    "\n",
    "**Prenom Etudiant: HAMATH DIEUDONNE**  \n",
    "\n",
    "**Classe : MASTER 1 BIG DATA**  \n"
   ]
  },
  {
   "cell_type": "markdown",
   "metadata": {},
   "source": [
    "## Description\n",
    "Ce projet consiste à utiliser Apache Spark pour faire l'analyse et le traitement des données de **[San Francisco Fire Department Calls ](https://data.sfgov.org/Public-Safety/Fire-Department-Calls-for-Service/nuek-vuh3)** afin de fournir quelques KPI (*Key Performance Indicator*). Le **SF Fire Dataset** comprend les réponses aux appels de toutes les unités d'incendie. Chaque enregistrement comprend le numéro d'appel, le numéro d'incident, l'adresse, l'identifiant de l'unité, le type d'appel et la disposition. Tous les intervalles de temps pertinents sont également inclus. Étant donné que ce Dataset est basé sur les réponses et que la plupart des appels impliquent plusieurs unités, ainsi il existe plusieurs enregistrements pour chaque numéro d'appel. Les adresses sont associées à un numéro de bloc, à une intersection ou à une boîte d'appel, et non à une adresse spécifique.\n",
    "\n",
    "**Plus de details sur la description des données cliquer sur ce [lien](https://data.sfgov.org/Public-Safety/Fire-Department-Calls-for-Service/nuek-vuh3)**"
   ]
  },
  {
   "cell_type": "markdown",
   "metadata": {},
   "source": [
    "## Travail à faire.\n",
    "L'objectif de ce projet est de comprendre le **SF Fire Dataset** afin de bien répondre aux questions en utilisant les codes Spark/Scala adéquates.\n",
    "\n",
    "- Créer un repos git (public ou privé) et partager le repos avec mon mail (limahin10@gmail.com)\n",
    "- Ecrire un code lisible et bien indenté \n",
    "- N'oublier pas de mettre en commentaire la justification de vos réponses sur les cellules Markdown. \n",
    "\n",
    "\n",
    "## Note:\n",
    "- Le projet est personnel, c'est-à-dire chaque notebook ne concerne qu'un seul étudiant. \n",
    "- Deadline : **Jeudi 10 janvier 2021** (Aucune de dérogation ne sera acceptée)"
   ]
  },
  {
   "cell_type": "markdown",
   "metadata": {},
   "source": [
    "### Chargement des données"
   ]
  },
  {
   "cell_type": "markdown",
   "metadata": {},
   "source": [
    "Importation des packages Spark"
   ]
  },
  {
   "cell_type": "code",
   "execution_count": 2,
   "metadata": {},
   "outputs": [
    {
     "data": {
      "text/plain": [
       "import org.apache.spark.sql.types._\r\n",
       "import org.apache.spark.sql.functions._\r\n",
       "import spark.implicits._\n"
      ]
     },
     "execution_count": 2,
     "metadata": {},
     "output_type": "execute_result"
    }
   ],
   "source": [
    "import org.apache.spark.sql.types._ \n",
    "import org.apache.spark.sql.functions._ \n",
    "import spark.implicits._"
   ]
  },
  {
   "cell_type": "markdown",
   "metadata": {},
   "source": [
    "Nous allons jeter un coup d'oeil sur la structure des données avant de définir un schéma"
   ]
  },
  {
   "cell_type": "code",
   "execution_count": 45,
   "metadata": {
    "scrolled": true
   },
   "outputs": [
    {
     "name": "stdout",
     "output_type": "stream",
     "text": [
      "head : Le terme head n'est pas reconnu comme nom d'applet de commande, fonction, fichier de script ou programme \n",
      "\n",
      "\n",
      "excutable. Vrifiez l'orthographe du nom, ou si un chemin d'accs existe, vrifiez que le chemin d'accs est correct \n",
      "\n",
      "\n",
      "et ressayez.\n",
      "\n",
      "\n",
      "Au caractre Ligne:1 : 1\n",
      "\n",
      "\n",
      "+ head -1 \"datasets/sf-fire/sf-fire-calls.csv\"\n",
      "\n",
      "\n",
      "+ ~~~~\n",
      "\n",
      "\n",
      "    + CategoryInfo          : ObjectNotFound: (head:String) [], CommandNotFoundException\n",
      "\n",
      "\n",
      "    + FullyQualifiedErrorId : CommandNotFoundException\n",
      "\n",
      "\n",
      " \n",
      "\n",
      "\n"
     ]
    }
   ],
   "source": [
    "!head -1 \"datasets/sf-fire/sf-fire-calls.csv\""
   ]
  },
  {
   "cell_type": "markdown",
   "metadata": {},
   "source": [
    "Vu que la taille de ces données est énormes, inferer le schema pour un très grande volumes de données s'avère un peu couteux. Nous allons ainsi définir un schema pour le Dataset."
   ]
  },
  {
   "cell_type": "code",
   "execution_count": 3,
   "metadata": {},
   "outputs": [
    {
     "data": {
      "text/plain": [
       "fireSchema: org.apache.spark.sql.types.StructType = StructType(StructField(CallNumber,IntegerType,true), StructField(UnitID,StringType,true), StructField(IncidentNumber,IntegerType,true), StructField(CallType,StringType,true), StructField(CallDate,StringType,true), StructField(WatchDate,StringType,true), StructField(CallFinalDisposition,StringType,true), StructField(AvailableDtTm,StringType,true), StructField(Address,StringType,true), StructField(City,StringType,true), StructField(Zipcode,IntegerType,true), StructField(Battalion,StringType,true), StructField(StationArea,StringType,true), StructField(Box,StringType,true), StructField(OriginalPriority,StringType,true), StructField(Priority,StringType,true), StructField(FinalPriority,IntegerType,true), StructField(ALSUnit,BooleanType,true)..."
      ]
     },
     "execution_count": 3,
     "metadata": {},
     "output_type": "execute_result"
    }
   ],
   "source": [
    "val fireSchema = StructType(Array(StructField(\"CallNumber\", IntegerType, true),\n",
    "  StructField(\"UnitID\", StringType, true),\n",
    "  StructField(\"IncidentNumber\", IntegerType, true),\n",
    "  StructField(\"CallType\", StringType, true),                  \n",
    "  StructField(\"CallDate\", StringType, true),      \n",
    "  StructField(\"WatchDate\", StringType, true),\n",
    "  StructField(\"CallFinalDisposition\", StringType, true),\n",
    "  StructField(\"AvailableDtTm\", StringType, true),\n",
    "  StructField(\"Address\", StringType, true),       \n",
    "  StructField(\"City\", StringType, true),       \n",
    "  StructField(\"Zipcode\", IntegerType, true),       \n",
    "  StructField(\"Battalion\", StringType, true),                 \n",
    "  StructField(\"StationArea\", StringType, true),       \n",
    "  StructField(\"Box\", StringType, true),       \n",
    "  StructField(\"OriginalPriority\", StringType, true),       \n",
    "  StructField(\"Priority\", StringType, true),       \n",
    "  StructField(\"FinalPriority\", IntegerType, true),       \n",
    "  StructField(\"ALSUnit\", BooleanType, true),       \n",
    "  StructField(\"CallTypeGroup\", StringType, true),\n",
    "  StructField(\"NumAlarms\", IntegerType, true),\n",
    "  StructField(\"UnitType\", StringType, true),\n",
    "  StructField(\"UnitSequenceInCallDispatch\", IntegerType, true),\n",
    "  StructField(\"FirePreventionDistrict\", StringType, true),\n",
    "  StructField(\"SupervisorDistrict\", StringType, true),\n",
    "  StructField(\"Neighborhood\", StringType, true),\n",
    "  StructField(\"Location\", StringType, true),\n",
    "  StructField(\"RowID\", StringType, true),\n",
    "  StructField(\"Delay\", FloatType, true)))"
   ]
  },
  {
   "cell_type": "code",
   "execution_count": 14,
   "metadata": {},
   "outputs": [
    {
     "data": {
      "text/plain": [
       "sfFireFile: String = sf-fire-calls.csv\r\n",
       "fireDF: org.apache.spark.sql.DataFrame = [CallNumber: int, UnitID: string ... 26 more fields]\n"
      ]
     },
     "execution_count": 14,
     "metadata": {},
     "output_type": "execute_result"
    }
   ],
   "source": [
    "val sfFireFile = \"sf-fire-calls.csv\"\n",
    "val fireDF = spark\n",
    "  .read\n",
    "  .schema(fireSchema)\n",
    "  .option(\"header\", \"true\")\n",
    "  .csv(sfFireFile)"
   ]
  },
  {
   "cell_type": "markdown",
   "metadata": {},
   "source": [
    "Nous allons mettre en cache le Dataframe"
   ]
  },
  {
   "cell_type": "code",
   "execution_count": 5,
   "metadata": {},
   "outputs": [
    {
     "data": {
      "text/plain": [
       "res1: fireDF.type = [CallNumber: int, UnitID: string ... 26 more fields]\n"
      ]
     },
     "execution_count": 5,
     "metadata": {},
     "output_type": "execute_result"
    }
   ],
   "source": [
    "fireDF.cache()"
   ]
  },
  {
   "cell_type": "code",
   "execution_count": 6,
   "metadata": {},
   "outputs": [
    {
     "data": {
      "text/plain": [
       "res2: Long = 175296\n"
      ]
     },
     "execution_count": 6,
     "metadata": {},
     "output_type": "execute_result"
    }
   ],
   "source": [
    "fireDF.count()"
   ]
  },
  {
   "cell_type": "code",
   "execution_count": 7,
   "metadata": {},
   "outputs": [
    {
     "name": "stdout",
     "output_type": "stream",
     "text": [
      "root\n",
      " |-- CallNumber: integer (nullable = true)\n",
      " |-- UnitID: string (nullable = true)\n",
      " |-- IncidentNumber: integer (nullable = true)\n",
      " |-- CallType: string (nullable = true)\n",
      " |-- CallDate: string (nullable = true)\n",
      " |-- WatchDate: string (nullable = true)\n",
      " |-- CallFinalDisposition: string (nullable = true)\n",
      " |-- AvailableDtTm: string (nullable = true)\n",
      " |-- Address: string (nullable = true)\n",
      " |-- City: string (nullable = true)\n",
      " |-- Zipcode: integer (nullable = true)\n",
      " |-- Battalion: string (nullable = true)\n",
      " |-- StationArea: string (nullable = true)\n",
      " |-- Box: string (nullable = true)\n",
      " |-- OriginalPriority: string (nullable = true)\n",
      " |-- Priority: string (nullable = true)\n",
      " |-- FinalPriority: integer (nullable = true)\n",
      " |-- ALSUnit: boolean (nullable = true)\n",
      " |-- CallTypeGroup: string (nullable = true)\n",
      " |-- NumAlarms: integer (nullable = true)\n",
      " |-- UnitType: string (nullable = true)\n",
      " |-- UnitSequenceInCallDispatch: integer (nullable = true)\n",
      " |-- FirePreventionDistrict: string (nullable = true)\n",
      " |-- SupervisorDistrict: string (nullable = true)\n",
      " |-- Neighborhood: string (nullable = true)\n",
      " |-- Location: string (nullable = true)\n",
      " |-- RowID: string (nullable = true)\n",
      " |-- Delay: float (nullable = true)\n",
      "\n"
     ]
    }
   ],
   "source": [
    "fireDF.printSchema()"
   ]
  },
  {
   "cell_type": "code",
   "execution_count": 8,
   "metadata": {},
   "outputs": [
    {
     "name": "stdout",
     "output_type": "stream",
     "text": [
      "+----------+------+--------------+----------------+----------+----------+--------------------+--------------------+--------------------+----+-------+---------+-----------+----+----------------+--------+-------------+-------+-------------+---------+--------+--------------------------+----------------------+------------------+--------------------+--------------------+-------------+---------+\n",
      "|CallNumber|UnitID|IncidentNumber|        CallType|  CallDate| WatchDate|CallFinalDisposition|       AvailableDtTm|             Address|City|Zipcode|Battalion|StationArea| Box|OriginalPriority|Priority|FinalPriority|ALSUnit|CallTypeGroup|NumAlarms|UnitType|UnitSequenceInCallDispatch|FirePreventionDistrict|SupervisorDistrict|        Neighborhood|            Location|        RowID|    Delay|\n",
      "+----------+------+--------------+----------------+----------+----------+--------------------+--------------------+--------------------+----+-------+---------+-----------+----+----------------+--------+-------------+-------+-------------+---------+--------+--------------------------+----------------------+------------------+--------------------+--------------------+-------------+---------+\n",
      "|  20110016|   T13|       2003235|  Structure Fire|01/11/2002|01/10/2002|               Other|01/11/2002 01:51:...|2000 Block of CAL...|  SF|  94109|      B04|         38|3362|               3|       3|            3|  false|         null|        1|   TRUCK|                         2|                     4|                 5|     Pacific Heights|(37.7895840679362...|020110016-T13|     2.95|\n",
      "|  20110022|   M17|       2003241|Medical Incident|01/11/2002|01/10/2002|               Other|01/11/2002 03:01:...|0 Block of SILVER...|  SF|  94124|      B10|         42|6495|               3|       3|            3|   true|         null|        1|   MEDIC|                         1|                    10|                10|Bayview Hunters P...|(37.7337623673897...|020110022-M17|      4.7|\n",
      "|  20110023|   M41|       2003242|Medical Incident|01/11/2002|01/10/2002|               Other|01/11/2002 02:39:...|MARKET ST/MCALLIS...|  SF|  94102|      B03|         01|1455|               3|       3|            3|   true|         null|        1|   MEDIC|                         2|                     3|                 6|          Tenderloin|(37.7811772186856...|020110023-M41|2.4333334|\n",
      "|  20110032|   E11|       2003250|    Vehicle Fire|01/11/2002|01/10/2002|               Other|01/11/2002 04:16:...|APPLETON AV/MISSI...|  SF|  94110|      B06|         32|5626|               3|       3|            3|  false|         null|        1|  ENGINE|                         1|                     6|                 9|      Bernal Heights|(37.7388432849018...|020110032-E11|      1.5|\n",
      "|  20110043|   B04|       2003259|          Alarms|01/11/2002|01/10/2002|               Other|01/11/2002 06:01:...|1400 Block of SUT...|  SF|  94109|      B04|         03|3223|               3|       3|            3|  false|         null|        1|   CHIEF|                         2|                     4|                 2|    Western Addition|(37.7872890372638...|020110043-B04|3.4833333|\n",
      "+----------+------+--------------+----------------+----------+----------+--------------------+--------------------+--------------------+----+-------+---------+-----------+----+----------------+--------+-------------+-------+-------------+---------+--------+--------------------------+----------------------+------------------+--------------------+--------------------+-------------+---------+\n",
      "only showing top 5 rows\n",
      "\n"
     ]
    }
   ],
   "source": [
    "fireDF.show(5)"
   ]
  },
  {
   "cell_type": "markdown",
   "metadata": {},
   "source": [
    "Filtrage des d'appels de type \"Medical Incident\""
   ]
  },
  {
   "cell_type": "code",
   "execution_count": 21,
   "metadata": {},
   "outputs": [
    {
     "name": "stdout",
     "output_type": "stream",
     "text": [
      "+--------------+----------------------+--------------+\n",
      "|IncidentNumber|AvailableDtTm         |CallType      |\n",
      "+--------------+----------------------+--------------+\n",
      "|2003235       |01/11/2002 01:51:44 AM|Structure Fire|\n",
      "|2003250       |01/11/2002 04:16:46 AM|Vehicle Fire  |\n",
      "|2003259       |01/11/2002 06:01:58 AM|Alarms        |\n",
      "|2003279       |01/11/2002 08:03:26 AM|Structure Fire|\n",
      "|2003301       |01/11/2002 09:46:44 AM|Alarms        |\n",
      "+--------------+----------------------+--------------+\n",
      "only showing top 5 rows\n",
      "\n"
     ]
    },
    {
     "data": {
      "text/plain": [
       "fewFireDF: org.apache.spark.sql.Dataset[org.apache.spark.sql.Row] = [IncidentNumber: int, AvailableDtTm: string ... 1 more field]\n"
      ]
     },
     "execution_count": 21,
     "metadata": {},
     "output_type": "execute_result"
    }
   ],
   "source": [
    "val fewFireDF = fireDF\n",
    "  .select(\"IncidentNumber\", \"AvailableDtTm\", \"CallType\") \n",
    "  .where($\"CallType\" =!= \"Medical Incident\")\n",
    "\n",
    "fewFireDF.show(5, false)"
   ]
  },
  {
   "cell_type": "markdown",
   "metadata": {},
   "source": [
    "### Question 1\n",
    "**Combien de types d'appels distincts ont été passés ?**  \n",
    "Pour être sûr, il ne faut pas compter les valeurs «nulles» dans la colonne."
   ]
  },
  {
   "cell_type": "code",
   "execution_count": 10,
   "metadata": {},
   "outputs": [
    {
     "name": "stdout",
     "output_type": "stream",
     "text": [
      "+-----+\n",
      "|count|\n",
      "+-----+\n",
      "|   28|\n",
      "+-----+\n",
      "\n"
     ]
    }
   ],
   "source": [
    "// Reponse 1\n",
    "\n",
    "fireDF.na.drop.agg(countDistinct(col(\"CallType\")).alias(\"count\")).show()"
   ]
  },
  {
   "cell_type": "markdown",
   "metadata": {},
   "source": [
    "### Question 2"
   ]
  },
  {
   "cell_type": "markdown",
   "metadata": {},
   "source": [
    "**Quels types d'appels différents ont été passés au service d'incendie?**"
   ]
  },
  {
   "cell_type": "code",
   "execution_count": 11,
   "metadata": {},
   "outputs": [
    {
     "name": "stdout",
     "output_type": "stream",
     "text": [
      "+----------------+\n",
      "|        CallType|\n",
      "+----------------+\n",
      "|  Structure Fire|\n",
      "|Medical Incident|\n",
      "|Medical Incident|\n",
      "|    Vehicle Fire|\n",
      "|          Alarms|\n",
      "|  Structure Fire|\n",
      "|          Alarms|\n",
      "|          Alarms|\n",
      "|Medical Incident|\n",
      "|Medical Incident|\n",
      "|Medical Incident|\n",
      "|  Structure Fire|\n",
      "|Medical Incident|\n",
      "|Medical Incident|\n",
      "|  Structure Fire|\n",
      "|  Structure Fire|\n",
      "|  Structure Fire|\n",
      "|Medical Incident|\n",
      "|Medical Incident|\n",
      "|Medical Incident|\n",
      "+----------------+\n",
      "only showing top 20 rows\n",
      "\n"
     ]
    },
    {
     "data": {
      "text/plain": [
       "fewFireDF: org.apache.spark.sql.DataFrame = [CallType: string]\n"
      ]
     },
     "execution_count": 11,
     "metadata": {},
     "output_type": "execute_result"
    }
   ],
   "source": [
    "// Reponse 2\n",
    "/*\n",
    "Ecrire ici votre code\n",
    "*/\n",
    "val fewFireDF = fireDF\n",
    "  .select(\"CallType\")\n",
    "fewFireDF.show()"
   ]
  },
  {
   "cell_type": "markdown",
   "metadata": {},
   "source": [
    "### Question 3\n",
    "\n",
    "**Trouver toutes les réponses ou les délais sont supérieurs à 5 minutes?**\n",
    "\n",
    "*Indication\n",
    "1. Renommer la colonne Delay -> ReponseDelayedinMins\n",
    "2. Retourner un nouveau DataFrame\n",
    "3. Afficher tous les appels où le temps de réponse à un site d'incendie a eu lieu après un retard de plus de 5 minutes"
   ]
  },
  {
   "cell_type": "code",
   "execution_count": 49,
   "metadata": {},
   "outputs": [
    {
     "name": "stdout",
     "output_type": "stream",
     "text": [
      "+--------------+--------------------+--------------------+---------------------+\n",
      "|IncidentNumber|       AvailableDtTm|            CallType|ResponseDelayedinMins|\n",
      "+--------------+--------------------+--------------------+---------------------+\n",
      "|       2003409|01/11/2002 04:34:...|    Medical Incident|                 5.35|\n",
      "|       2003642|01/12/2002 01:23:...|    Medical Incident|                 6.25|\n",
      "|       2003818|01/13/2002 01:51:...|    Medical Incident|                  5.2|\n",
      "|       2004152|01/14/2002 08:16:...|Citizen Assist / ...|                  5.6|\n",
      "|       2004216|01/14/2002 12:27:...|    Medical Incident|                 7.25|\n",
      "|       2004408|01/15/2002 06:53:...|    Medical Incident|            11.916667|\n",
      "|       2004521|01/15/2002 03:18:...|    Medical Incident|             5.116667|\n",
      "|       2004528|01/15/2002 03:55:...|    Medical Incident|             8.633333|\n",
      "|       2004528|01/15/2002 07:49:...|    Medical Incident|             95.28333|\n",
      "|       2004610|01/15/2002 08:17:...|    Medical Incident|                 5.45|\n",
      "|       2004641|01/15/2002 09:46:...|    Medical Incident|                  7.6|\n",
      "|       2004721|01/16/2002 08:43:...|    Medical Incident|             6.133333|\n",
      "|       2004724|01/16/2002 07:31:...|      Structure Fire|            5.1833334|\n",
      "|       2005038|01/17/2002 10:32:...|    Medical Incident|            6.9166665|\n",
      "|       2005173|01/17/2002 08:10:...|    Medical Incident|                  5.2|\n",
      "|       2005321|01/18/2002 09:40:...|              Alarms|                 6.35|\n",
      "|       2005353|01/18/2002 12:51:...|               Other|             7.983333|\n",
      "|       2005480|01/18/2002 07:33:...|    Medical Incident|                13.55|\n",
      "|       2005599|01/19/2002 06:14:...|    Medical Incident|                 5.15|\n",
      "|       2005623|01/19/2002 10:50:...|      Structure Fire|            13.583333|\n",
      "+--------------+--------------------+--------------------+---------------------+\n",
      "only showing top 20 rows\n"
     ]
    },
    {
     "data": {
      "text/plain": [
       "newFireDF: org.apache.spark.sql.Dataset[org.apache.spark.sql.Row] = [IncidentNumber: int, AvailableDtTm: string ... 2 more fields]\n"
      ]
     },
     "execution_count": 49,
     "metadata": {},
     "output_type": "execute_result"
    },
    {
     "name": "stdout",
     "output_type": "stream",
     "text": [
      "\r\n"
     ]
    }
   ],
   "source": [
    "// Reponse 3\n",
    "val newFireDF = fireDF.withColumnRenamed(\"Delay\", \"ResponseDelayedinMins\")\n",
    " .select(\"IncidentNumber\", \"AvailableDtTm\", \"CallType\", \"ResponseDelayedinMins\") \n",
    "  .where($\"ResponseDelayedinMins\" > 5)\n",
    "newFireDF.show()"
   ]
  },
  {
   "cell_type": "markdown",
   "metadata": {},
   "source": [
    "### Transformations des dates\n",
    "Maintenant nous allons d'abord:\n",
    "1. Transformer les dates de type String en Spark Timestamp afin que nous puissions effectuer des requêtes basées sur la date plus tard\n",
    "2. Retourner le Dataframe transformée\n",
    "3. Mettre en cache le nouveau DataFrame"
   ]
  },
  {
   "cell_type": "code",
   "execution_count": 52,
   "metadata": {},
   "outputs": [
    {
     "name": "stdout",
     "output_type": "stream",
     "text": [
      "+-------------------+-------------------+-------------------+\n",
      "|       IncidentDate|        OnWatchDate|      AvailableDtTS|\n",
      "+-------------------+-------------------+-------------------+\n",
      "|2002-01-11 00:00:00|2002-01-10 00:00:00|2002-01-11 01:51:44|\n",
      "|2002-01-11 00:00:00|2002-01-10 00:00:00|2002-01-11 03:01:18|\n",
      "|2002-01-11 00:00:00|2002-01-10 00:00:00|2002-01-11 02:39:50|\n",
      "|2002-01-11 00:00:00|2002-01-10 00:00:00|2002-01-11 04:16:46|\n",
      "|2002-01-11 00:00:00|2002-01-10 00:00:00|2002-01-11 06:01:58|\n",
      "|2002-01-11 00:00:00|2002-01-11 00:00:00|2002-01-11 08:03:26|\n",
      "|2002-01-11 00:00:00|2002-01-11 00:00:00|2002-01-11 09:46:44|\n",
      "|2002-01-11 00:00:00|2002-01-11 00:00:00|2002-01-11 09:58:53|\n",
      "|2002-01-11 00:00:00|2002-01-11 00:00:00|2002-01-11 12:06:57|\n",
      "|2002-01-11 00:00:00|2002-01-11 00:00:00|2002-01-11 13:08:40|\n",
      "|2002-01-11 00:00:00|2002-01-11 00:00:00|2002-01-11 15:31:02|\n",
      "|2002-01-11 00:00:00|2002-01-11 00:00:00|2002-01-11 14:59:04|\n",
      "|2002-01-11 00:00:00|2002-01-11 00:00:00|2002-01-11 16:22:49|\n",
      "|2002-01-11 00:00:00|2002-01-11 00:00:00|2002-01-11 16:18:33|\n",
      "|2002-01-11 00:00:00|2002-01-11 00:00:00|2002-01-11 16:09:08|\n",
      "|2002-01-11 00:00:00|2002-01-11 00:00:00|2002-01-11 16:09:08|\n",
      "|2002-01-11 00:00:00|2002-01-11 00:00:00|2002-01-11 16:09:08|\n",
      "|2002-01-11 00:00:00|2002-01-11 00:00:00|2002-01-11 16:34:23|\n",
      "|2002-01-11 00:00:00|2002-01-11 00:00:00|2002-01-11 16:51:31|\n",
      "|2002-01-11 00:00:00|2002-01-11 00:00:00|2002-01-11 16:51:12|\n",
      "+-------------------+-------------------+-------------------+\n",
      "only showing top 20 rows\n",
      "\n"
     ]
    },
    {
     "data": {
      "text/plain": [
       "fireTSDF: org.apache.spark.sql.DataFrame = [CallNumber: int, UnitID: string ... 26 more fields]\r\n",
       "res46: fireTSDF.type = [CallNumber: int, UnitID: string ... 26 more fields]\n"
      ]
     },
     "execution_count": 52,
     "metadata": {},
     "output_type": "execute_result"
    }
   ],
   "source": [
    "val fireTSDF = fireDF\n",
    "  .withColumn(\"IncidentDate\", to_timestamp(col(\"CallDate\"), \"MM/dd/yyyy\")).drop(\"CallDate\") \n",
    "  .withColumn(\"OnWatchDate\", to_timestamp(col(\"WatchDate\"), \"MM/dd/yyyy\")).drop(\"WatchDate\") \n",
    "  .withColumn(\"AvailableDtTS\", to_timestamp(col(\"AvailableDtTm\"), \"MM/dd/yyyy hh:mm:ss a\")).drop(\"AvailableDtTm\")\n",
    "fireDF.withColumnRenamed(\"Delay\", \"ResponseDelayedinMins\")\n",
    "fireTSDF\n",
    ".select(\"IncidentDate\", \"OnWatchDate\", \"AvailableDtTS\")\n",
    ".show()\n",
    "\n",
    "fireTSDF.cache()"
   ]
  },
  {
   "cell_type": "markdown",
   "metadata": {},
   "source": [
    "### Question 4\n",
    "**Quels sont les types d'appels les plus courants?**"
   ]
  },
  {
   "cell_type": "code",
   "execution_count": 69,
   "metadata": {},
   "outputs": [
    {
     "name": "stdout",
     "output_type": "stream",
     "text": [
      "+--------------------+-----+\n",
      "|            CallType|count|\n",
      "+--------------------+-----+\n",
      "|    Medical Incident|18981|\n",
      "|      Structure Fire| 2424|\n",
      "|              Alarms| 1797|\n",
      "|   Traffic Collision| 1193|\n",
      "|Citizen Assist / ...|  803|\n",
      "|               Other|  585|\n",
      "|        Water Rescue|  332|\n",
      "|        Outside Fire|  305|\n",
      "|Gas Leak (Natural...|  167|\n",
      "|Odor (Strange / U...|  164|\n",
      "|        Vehicle Fire|  123|\n",
      "|   Electrical Hazard|  121|\n",
      "|Elevator / Escala...|   94|\n",
      "|Smoke Investigati...|   94|\n",
      "|              HazMat|   76|\n",
      "|          Fuel Spill|   64|\n",
      "|Industrial Accidents|   33|\n",
      "|Train / Rail Inci...|   32|\n",
      "|Watercraft in Dis...|   21|\n",
      "|   High Angle Rescue|   16|\n",
      "+--------------------+-----+\n",
      "only showing top 20 rows\n",
      "\n"
     ]
    }
   ],
   "source": [
    "//Reponse 4\n",
    "newFireDF\n",
    "    .select(\"CallType\")\n",
    "    .where(col(\"CallType\").isNotNull)\n",
    "    .groupBy(\"CallType\")\n",
    "    .count()\n",
    "    .orderBy(desc(\"count\"))\n",
    "    .show()"
   ]
  },
  {
   "cell_type": "markdown",
   "metadata": {},
   "source": [
    "### Question 5-a\n",
    "**Quels sont boites postaux rencontrés dans les appels les plus courants?**"
   ]
  },
  {
   "cell_type": "code",
   "execution_count": 82,
   "metadata": {
    "scrolled": true
   },
   "outputs": [
    {
     "ename": "org.apache.spark.sql.AnalysisException",
     "evalue": " Cannot resolve column name \"CallType\" among (Box);\r",
     "output_type": "error",
     "traceback": [
      "org.apache.spark.sql.AnalysisException: Cannot resolve column name \"CallType\" among (Box);\r",
      "  at org.apache.spark.sql.Dataset$$anonfun$resolve$1.apply(Dataset.scala:223)\r",
      "  at org.apache.spark.sql.Dataset$$anonfun$resolve$1.apply(Dataset.scala:223)\r",
      "  at scala.Option.getOrElse(Option.scala:121)\r",
      "  at org.apache.spark.sql.Dataset.resolve(Dataset.scala:222)\r",
      "  at org.apache.spark.sql.Dataset$$anonfun$groupBy$2.apply(Dataset.scala:1628)\r",
      "  at org.apache.spark.sql.Dataset$$anonfun$groupBy$2.apply(Dataset.scala:1628)\r",
      "  at scala.collection.TraversableLike$$anonfun$map$1.apply(TraversableLike.scala:234)\r",
      "  at scala.collection.TraversableLike$$anonfun$map$1.apply(TraversableLike.scala:234)\r",
      "  at scala.collection.mutable.ResizableArray$class.foreach(ResizableArray.scala:59)\r",
      "  at scala.collection.mutable.ArrayBuffer.foreach(ArrayBuffer.scala:48)\r",
      "  at scala.collection.TraversableLike$class.map(TraversableLike.scala:234)\r",
      "  at scala.collection.AbstractTraversable.map(Traversable.scala:104)\r",
      "  at org.apache.spark.sql.Dataset.groupBy(Dataset.scala:1628)\r",
      "  ... 42 elided",
      ""
     ]
    }
   ],
   "source": [
    "//Reponse 5-a\n",
    "/*\n",
    "Ecrire ici votre code\n",
    "*/\n",
    "fireDF\n",
    "    .select(\"CallType\")\n",
    "    .where(col(\"CallType\").isNotNull)\n",
    "    .groupBy(\"CallType\")\n",
    "    .count()\n",
    "    .orderBy(desc(\"count\"))\n",
    "    .show"
   ]
  },
  {
   "cell_type": "markdown",
   "metadata": {},
   "source": [
    "### Question 5-b\n",
    "**Quels sont les quartiers de San Francisco dont les codes postaux sont 94102 et 94103?**"
   ]
  },
  {
   "cell_type": "code",
   "execution_count": 64,
   "metadata": {
    "scrolled": false
   },
   "outputs": [
    {
     "name": "stdout",
     "output_type": "stream",
     "text": [
      "+-------+----------------+\n",
      "|Zipcode|    neighborhood|\n",
      "+-------+----------------+\n",
      "|  94103| South of Market|\n",
      "|  94103|         Mission|\n",
      "|  94103| South of Market|\n",
      "|  94103| South of Market|\n",
      "|  94103| South of Market|\n",
      "|  94102|      Tenderloin|\n",
      "|  94103| South of Market|\n",
      "|  94103| South of Market|\n",
      "|  94103| South of Market|\n",
      "|  94103| South of Market|\n",
      "|  94103|         Mission|\n",
      "|  94103|         Mission|\n",
      "|  94102|      Tenderloin|\n",
      "|  94102|      Tenderloin|\n",
      "|  94103| South of Market|\n",
      "|  94102|      Tenderloin|\n",
      "|  94102|      Tenderloin|\n",
      "|  94103| South of Market|\n",
      "|  94102|Western Addition|\n",
      "|  94103| South of Market|\n",
      "+-------+----------------+\n",
      "only showing top 20 rows\n",
      "\n"
     ]
    }
   ],
   "source": [
    "//Reponse 5-b\n",
    "/*\n",
    "Ecrire ici votre code\n",
    "*/\n",
    "fireTSDF\n",
    "    .select(\"Zipcode\",\"neighborhood\")\n",
    "    .where($\"City\"===\"San Francisco\")\n",
    "    .filter($\"Zipcode\"===94102 or $\"Zipcode\"===94103)\n",
    "    .show()"
   ]
  },
  {
   "cell_type": "markdown",
   "metadata": {},
   "source": [
    "### Question 6\n",
    "**Determiner le nombre total d'appels, ainsi que la moyenne, le minimum et le maximum du temps de réponse des appels?**"
   ]
  },
  {
   "cell_type": "code",
   "execution_count": 65,
   "metadata": {},
   "outputs": [
    {
     "name": "stdout",
     "output_type": "stream",
     "text": [
      "+-------+--------------------+-----------------+-----------------+----------------------+----------------------+------------------------------+-----------+-----------------+---------+------------------+-----------------+------------------+------------------+-------------------+----------------------------+-------------------+--------+--------------------------+----------------------+------------------+---------------------+-------------------------------------+-------------+-----------------+\n",
      "|summary|CallNumber          |UnitID           |IncidentNumber   |CallType              |CallFinalDisposition  |Address                       |City       |Zipcode          |Battalion|StationArea       |Box              |OriginalPriority  |Priority          |FinalPriority      |CallTypeGroup               |NumAlarms          |UnitType|UnitSequenceInCallDispatch|FirePreventionDistrict|SupervisorDistrict|Neighborhood         |Location                             |RowID        |Delay            |\n",
      "+-------+--------------------+-----------------+-----------------+----------------------+----------------------+------------------------------+-----------+-----------------+---------+------------------+-----------------+------------------+------------------+-------------------+----------------------------+-------------------+--------+--------------------------+----------------------+------------------+---------------------+-------------------------------------+-------------+-----------------+\n",
      "|count  |175296              |175296           |175296           |175296                |175296                |175296                        |175089     |175154           |175296   |175221            |175283           |174374            |175296            |175296             |75779                       |175296             |175296  |175295                    |175296                |175296            |175296               |175296                               |175296       |175296           |\n",
      "|mean   |1.0023517638629518E8|75.09678410773658|9900785.635057274|null                  |null                  |null                          |null       |94113.58601573472|null     |18.08921735922151 |4090.2165596011  |2.7605317888321927|2.7449383763374695|2.792174379335524  |null                        |1.0049858525009128 |null    |2.1280413018055278        |4.7602276974384035    |5.989141976365816 |null                 |null                                 |null         |3.892364154521585|\n",
      "|stddev |5.396909283412614E7 |12.81827412075357|5407019.524900499|null                  |null                  |null                          |null       |10.22186958979409|null     |14.463948601522201|2374.882225714961|0.5070550169980569|0.5170575577556943|0.40575247533832226|null                        |0.09811952680742073|null    |2.054383867339171         |2.9348933918215185    |2.7217404283152082|null                 |null                                 |null         |9.378286226254197|\n",
      "|min    |1030128             |27               |30636            |Administrative        |Against Medical Advice|0 Block of 0NB GGBR TOLL PZ ON|BN         |94102            |B01      |01                |0123             |1                 |1                 |2                  |Alarm                       |1                  |AIRPORT |1                         |1                     |1                 |Bayview Hunters Point|(37.6168823239251, -122.384094238098)|001030128-B04|0.016666668      |\n",
      "|max    |183104004           |UU1              |18130302         |Watercraft in Distress|Unable to Locate      |YOSEMITE AV/MENDELL ST        |Yerba Buena|94158            |B99      |A3                |AI02             |I                 |I                 |3                  |Potentially Life-Threatening|5                  |TRUCK   |68                        |None                  |None              |Western Addition     |(37.8544643401172, -122.421080465833)|183104004-B01|1844.55          |\n",
      "+-------+--------------------+-----------------+-----------------+----------------------+----------------------+------------------------------+-----------+-----------------+---------+------------------+-----------------+------------------+------------------+-------------------+----------------------------+-------------------+--------+--------------------------+----------------------+------------------+---------------------+-------------------------------------+-------------+-----------------+\n",
      "\n"
     ]
    }
   ],
   "source": [
    "//Reponse 6\n",
    "/*\n",
    "Ecrire ici votre code\n",
    "*/\n",
    "fireTSDF.describe().show(false)"
   ]
  },
  {
   "cell_type": "markdown",
   "metadata": {},
   "source": [
    "### Question 7-a\n",
    "**Combien d'années distinctes trouve t-on dans ce Dataset?**  \n",
    "Dans ce dataset nous avons des données comprises entre 2000-2018. Vous pouvez utilisez la fonction Spark `year()` pour les dates en Timestamp"
   ]
  },
  {
   "cell_type": "code",
   "execution_count": 76,
   "metadata": {},
   "outputs": [
    {
     "data": {
      "text/plain": [
       "res70: Long = 19\n"
      ]
     },
     "execution_count": 76,
     "metadata": {},
     "output_type": "execute_result"
    }
   ],
   "source": [
    "//Reponse 7-a\n",
    "fireTSDF\n",
    "    .select(year($\"IncidentDate\"))\n",
    "    .distinct()\n",
    "    .count"
   ]
  },
  {
   "cell_type": "markdown",
   "metadata": {},
   "source": [
    "### Question 7-b\n",
    "**Quelle semaine de l'année 2018 a eu le plus d'appels d'incendie?**"
   ]
  },
  {
   "cell_type": "code",
   "execution_count": 19,
   "metadata": {},
   "outputs": [],
   "source": [
    "//Reponse 7-b\n",
    "/*\n",
    "Ecrire ici votre code\n",
    "*/"
   ]
  },
  {
   "cell_type": "markdown",
   "metadata": {},
   "source": [
    "### Question 8\n",
    "**Quels sont les quartiers de San Francisco qui ont connu le pire temps de réponse en 2018?**"
   ]
  },
  {
   "cell_type": "code",
   "execution_count": 78,
   "metadata": {},
   "outputs": [
    {
     "ename": "org.apache.spark.sql.AnalysisException",
     "evalue": " cannot resolve '`ResponseDelayedinMins`' given input columns: [OriginalPriority, CallTypeGroup, ALSUnit, UnitSequenceInCallDispatch, Box, IncidentDate, Priority, RowID, CallFinalDisposition, CallType, SupervisorDistrict, UnitID, CallNumber, City, FinalPriority, Delay, Zipcode, Address, AvailableDtTS, IncidentNumber, Neighborhood, FirePreventionDistrict, UnitType, OnWatchDate, NumAlarms, Battalion, StationArea, Location];;\r",
     "output_type": "error",
     "traceback": [
      "org.apache.spark.sql.AnalysisException: cannot resolve '`ResponseDelayedinMins`' given input columns: [OriginalPriority, CallTypeGroup, ALSUnit, UnitSequenceInCallDispatch, Box, IncidentDate, Priority, RowID, CallFinalDisposition, CallType, SupervisorDistrict, UnitID, CallNumber, City, FinalPriority, Delay, Zipcode, Address, AvailableDtTS, IncidentNumber, Neighborhood, FirePreventionDistrict, UnitType, OnWatchDate, NumAlarms, Battalion, StationArea, Location];;\r",
      "'Project [year(cast(IncidentDate#4521 as date)) AS year(IncidentDate)#7586, neighborhood#799, 'ResponseDelayedinMins]\r",
      "+- Project [CallNumber#775, UnitID#776, IncidentNumber#777, CallType#778, CallFinalDisposition#781, Address#783, City#784, Zipcode#785, Battalion#786, StationArea#787, Box#788, OriginalPriority#789, Priority#790, FinalPriority#791, ALSUnit#792, CallTypeGroup#793, NumAlarms#794, UnitType#795, UnitSequenceInCallDispatch#796, FirePreventionDistrict#797, SupervisorDistrict#798, Neighborhood#799, Location#800, RowID#801, ... 4 more fields]\r",
      "   +- Project [CallNumber#775, UnitID#776, IncidentNumber#777, CallType#778, CallFinalDisposition#781, AvailableDtTm#782, Address#783, City#784, Zipcode#785, Battalion#786, StationArea#787, Box#788, OriginalPriority#789, Priority#790, FinalPriority#791, ALSUnit#792, CallTypeGroup#793, NumAlarms#794, UnitType#795, UnitSequenceInCallDispatch#796, FirePreventionDistrict#797, SupervisorDistrict#798, Neighborhood#799, Location#800, ... 5 more fields]\r",
      "      +- Project [CallNumber#775, UnitID#776, IncidentNumber#777, CallType#778, CallFinalDisposition#781, AvailableDtTm#782, Address#783, City#784, Zipcode#785, Battalion#786, StationArea#787, Box#788, OriginalPriority#789, Priority#790, FinalPriority#791, ALSUnit#792, CallTypeGroup#793, NumAlarms#794, UnitType#795, UnitSequenceInCallDispatch#796, FirePreventionDistrict#797, SupervisorDistrict#798, Neighborhood#799, Location#800, ... 4 more fields]\r",
      "         +- Project [CallNumber#775, UnitID#776, IncidentNumber#777, CallType#778, WatchDate#780, CallFinalDisposition#781, AvailableDtTm#782, Address#783, City#784, Zipcode#785, Battalion#786, StationArea#787, Box#788, OriginalPriority#789, Priority#790, FinalPriority#791, ALSUnit#792, CallTypeGroup#793, NumAlarms#794, UnitType#795, UnitSequenceInCallDispatch#796, FirePreventionDistrict#797, SupervisorDistrict#798, Neighborhood#799, ... 5 more fields]\r",
      "            +- Project [CallNumber#775, UnitID#776, IncidentNumber#777, CallType#778, WatchDate#780, CallFinalDisposition#781, AvailableDtTm#782, Address#783, City#784, Zipcode#785, Battalion#786, StationArea#787, Box#788, OriginalPriority#789, Priority#790, FinalPriority#791, ALSUnit#792, CallTypeGroup#793, NumAlarms#794, UnitType#795, UnitSequenceInCallDispatch#796, FirePreventionDistrict#797, SupervisorDistrict#798, Neighborhood#799, ... 4 more fields]\r",
      "               +- Project [CallNumber#775, UnitID#776, IncidentNumber#777, CallType#778, CallDate#779, WatchDate#780, CallFinalDisposition#781, AvailableDtTm#782, Address#783, City#784, Zipcode#785, Battalion#786, StationArea#787, Box#788, OriginalPriority#789, Priority#790, FinalPriority#791, ALSUnit#792, CallTypeGroup#793, NumAlarms#794, UnitType#795, UnitSequenceInCallDispatch#796, FirePreventionDistrict#797, SupervisorDistrict#798, ... 5 more fields]\r",
      "                  +- Relation[CallNumber#775,UnitID#776,IncidentNumber#777,CallType#778,CallDate#779,WatchDate#780,CallFinalDisposition#781,AvailableDtTm#782,Address#783,City#784,Zipcode#785,Battalion#786,StationArea#787,Box#788,OriginalPriority#789,Priority#790,FinalPriority#791,ALSUnit#792,CallTypeGroup#793,NumAlarms#794,UnitType#795,UnitSequenceInCallDispatch#796,FirePreventionDistrict#797,SupervisorDistrict#798,... 4 more fields] csv\r",
      "\r",
      "  at org.apache.spark.sql.catalyst.analysis.package$AnalysisErrorAt.failAnalysis(package.scala:42)\r",
      "  at org.apache.spark.sql.catalyst.analysis.CheckAnalysis$$anonfun$checkAnalysis$1$$anonfun$apply$3.applyOrElse(CheckAnalysis.scala:111)\r",
      "  at org.apache.spark.sql.catalyst.analysis.CheckAnalysis$$anonfun$checkAnalysis$1$$anonfun$apply$3.applyOrElse(CheckAnalysis.scala:108)\r",
      "  at org.apache.spark.sql.catalyst.trees.TreeNode$$anonfun$transformUp$1.apply(TreeNode.scala:280)\r",
      "  at org.apache.spark.sql.catalyst.trees.TreeNode$$anonfun$transformUp$1.apply(TreeNode.scala:280)\r",
      "  at org.apache.spark.sql.catalyst.trees.CurrentOrigin$.withOrigin(TreeNode.scala:69)\r",
      "  at org.apache.spark.sql.catalyst.trees.TreeNode.transformUp(TreeNode.scala:279)\r",
      "  at org.apache.spark.sql.catalyst.plans.QueryPlan$$anonfun$transformExpressionsUp$1.apply(QueryPlan.scala:93)\r",
      "  at org.apache.spark.sql.catalyst.plans.QueryPlan$$anonfun$transformExpressionsUp$1.apply(QueryPlan.scala:93)\r",
      "  at org.apache.spark.sql.catalyst.plans.QueryPlan$$anonfun$1.apply(QueryPlan.scala:105)\r",
      "  at org.apache.spark.sql.catalyst.plans.QueryPlan$$anonfun$1.apply(QueryPlan.scala:105)\r",
      "  at org.apache.spark.sql.catalyst.trees.CurrentOrigin$.withOrigin(TreeNode.scala:69)\r",
      "  at org.apache.spark.sql.catalyst.plans.QueryPlan.transformExpression$1(QueryPlan.scala:104)\r",
      "  at org.apache.spark.sql.catalyst.plans.QueryPlan.org$apache$spark$sql$catalyst$plans$QueryPlan$$recursiveTransform$1(QueryPlan.scala:116)\r",
      "  at org.apache.spark.sql.catalyst.plans.QueryPlan$$anonfun$org$apache$spark$sql$catalyst$plans$QueryPlan$$recursiveTransform$1$2.apply(QueryPlan.scala:121)\r",
      "  at scala.collection.TraversableLike$$anonfun$map$1.apply(TraversableLike.scala:234)\r",
      "  at scala.collection.TraversableLike$$anonfun$map$1.apply(TraversableLike.scala:234)\r",
      "  at scala.collection.mutable.ResizableArray$class.foreach(ResizableArray.scala:59)\r",
      "  at scala.collection.mutable.ArrayBuffer.foreach(ArrayBuffer.scala:48)\r",
      "  at scala.collection.TraversableLike$class.map(TraversableLike.scala:234)\r",
      "  at scala.collection.AbstractTraversable.map(Traversable.scala:104)\r",
      "  at org.apache.spark.sql.catalyst.plans.QueryPlan.org$apache$spark$sql$catalyst$plans$QueryPlan$$recursiveTransform$1(QueryPlan.scala:121)\r",
      "  at org.apache.spark.sql.catalyst.plans.QueryPlan$$anonfun$2.apply(QueryPlan.scala:126)\r",
      "  at org.apache.spark.sql.catalyst.trees.TreeNode.mapProductIterator(TreeNode.scala:186)\r",
      "  at org.apache.spark.sql.catalyst.plans.QueryPlan.mapExpressions(QueryPlan.scala:126)\r",
      "  at org.apache.spark.sql.catalyst.plans.QueryPlan.transformExpressionsUp(QueryPlan.scala:93)\r",
      "  at org.apache.spark.sql.catalyst.analysis.CheckAnalysis$$anonfun$checkAnalysis$1.apply(CheckAnalysis.scala:108)\r",
      "  at org.apache.spark.sql.catalyst.analysis.CheckAnalysis$$anonfun$checkAnalysis$1.apply(CheckAnalysis.scala:86)\r",
      "  at org.apache.spark.sql.catalyst.trees.TreeNode.foreachUp(TreeNode.scala:126)\r",
      "  at org.apache.spark.sql.catalyst.analysis.CheckAnalysis$class.checkAnalysis(CheckAnalysis.scala:86)\r",
      "  at org.apache.spark.sql.catalyst.analysis.Analyzer.checkAnalysis(Analyzer.scala:95)\r",
      "  at org.apache.spark.sql.catalyst.analysis.Analyzer$$anonfun$executeAndCheck$1.apply(Analyzer.scala:108)\r",
      "  at org.apache.spark.sql.catalyst.analysis.Analyzer$$anonfun$executeAndCheck$1.apply(Analyzer.scala:105)\r",
      "  at org.apache.spark.sql.catalyst.plans.logical.AnalysisHelper$.markInAnalyzer(AnalysisHelper.scala:201)\r",
      "  at org.apache.spark.sql.catalyst.analysis.Analyzer.executeAndCheck(Analyzer.scala:105)\r",
      "  at org.apache.spark.sql.execution.QueryExecution.analyzed$lzycompute(QueryExecution.scala:58)\r",
      "  at org.apache.spark.sql.execution.QueryExecution.analyzed(QueryExecution.scala:56)\r",
      "  at org.apache.spark.sql.execution.QueryExecution.assertAnalyzed(QueryExecution.scala:48)\r",
      "  at org.apache.spark.sql.Dataset$.ofRows(Dataset.scala:78)\r",
      "  at org.apache.spark.sql.Dataset.org$apache$spark$sql$Dataset$$withPlan(Dataset.scala:3412)\r",
      "  at org.apache.spark.sql.Dataset.select(Dataset.scala:1340)\r",
      "  ... 42 elided",
      ""
     ]
    }
   ],
   "source": [
    "//Reponse 8\n",
    "fireTSDF\n",
    "    .select(year($\"IncidentDate\"),$\"neighborhood\",$\"ResponseDelayedinMins\")\n",
    "    .filter(year($\"IncidentDate\")===\"2018\")\n",
    "    .orderBy(asc(\"ResponseDelayedinMins\"))\n",
    "    .show()"
   ]
  },
  {
   "cell_type": "markdown",
   "metadata": {},
   "source": [
    "### Question 9\n",
    "\n",
    "**Comment stocker les données du Dataframe sous format de fichiers Parquet?**"
   ]
  },
  {
   "cell_type": "code",
   "execution_count": 83,
   "metadata": {},
   "outputs": [
    {
     "ename": "org.apache.spark.SparkException",
     "evalue": " Job aborted.\r",
     "output_type": "error",
     "traceback": [
      "org.apache.spark.SparkException: Job aborted.\r",
      "  at org.apache.spark.sql.execution.datasources.FileFormatWriter$.write(FileFormatWriter.scala:198)\r",
      "  at org.apache.spark.sql.execution.datasources.InsertIntoHadoopFsRelationCommand.run(InsertIntoHadoopFsRelationCommand.scala:159)\r",
      "  at org.apache.spark.sql.execution.command.DataWritingCommandExec.sideEffectResult$lzycompute(commands.scala:104)\r",
      "  at org.apache.spark.sql.execution.command.DataWritingCommandExec.sideEffectResult(commands.scala:102)\r",
      "  at org.apache.spark.sql.execution.command.DataWritingCommandExec.doExecute(commands.scala:122)\r",
      "  at org.apache.spark.sql.execution.SparkPlan$$anonfun$execute$1.apply(SparkPlan.scala:131)\r",
      "  at org.apache.spark.sql.execution.SparkPlan$$anonfun$execute$1.apply(SparkPlan.scala:127)\r",
      "  at org.apache.spark.sql.execution.SparkPlan$$anonfun$executeQuery$1.apply(SparkPlan.scala:155)\r",
      "  at org.apache.spark.rdd.RDDOperationScope$.withScope(RDDOperationScope.scala:151)\r",
      "  at org.apache.spark.sql.execution.SparkPlan.executeQuery(SparkPlan.scala:152)\r",
      "  at org.apache.spark.sql.execution.SparkPlan.execute(SparkPlan.scala:127)\r",
      "  at org.apache.spark.sql.execution.QueryExecution.toRdd$lzycompute(QueryExecution.scala:83)\r",
      "  at org.apache.spark.sql.execution.QueryExecution.toRdd(QueryExecution.scala:81)\r",
      "  at org.apache.spark.sql.DataFrameWriter$$anonfun$runCommand$1.apply(DataFrameWriter.scala:696)\r",
      "  at org.apache.spark.sql.DataFrameWriter$$anonfun$runCommand$1.apply(DataFrameWriter.scala:696)\r",
      "  at org.apache.spark.sql.execution.SQLExecution$$anonfun$withNewExecutionId$1.apply(SQLExecution.scala:80)\r",
      "  at org.apache.spark.sql.execution.SQLExecution$.withSQLConfPropagated(SQLExecution.scala:127)\r",
      "  at org.apache.spark.sql.execution.SQLExecution$.withNewExecutionId(SQLExecution.scala:75)\r",
      "  at org.apache.spark.sql.DataFrameWriter.runCommand(DataFrameWriter.scala:696)\r",
      "  at org.apache.spark.sql.DataFrameWriter.saveToV1Source(DataFrameWriter.scala:305)\r",
      "  at org.apache.spark.sql.DataFrameWriter.save(DataFrameWriter.scala:291)\r",
      "  at org.apache.spark.sql.DataFrameWriter.save(DataFrameWriter.scala:249)\r",
      "  at org.apache.spark.sql.DataFrameWriter.parquet(DataFrameWriter.scala:586)\r",
      "  ... 42 elided\r",
      "Caused by: org.apache.spark.SparkException: Job aborted due to stage failure: Task 0 in stage 56.0 failed 1 times, most recent failure: Lost task 0.0 in stage 56.0 (TID 1052, localhost, executor driver): java.io.IOException: (null) entry in command string: null chmod 0644 C:\\Users\\user\\Documents\\PROGRAMATION FONCTIONNELLE\\Projet Spark\\tableau.parquet\\_temporary\\0\\_temporary\\attempt_20210110234449_0056_m_000000_1052\\part-00000-01cfc97c-ed01-4466-9420-b807e0d763a4-c000.parquet\r",
      "\tat org.apache.hadoop.util.Shell$ShellCommandExecutor.execute(Shell.java:770)\r",
      "\tat org.apache.hadoop.util.Shell.execCommand(Shell.java:866)\r",
      "\tat org.apache.hadoop.util.Shell.execCommand(Shell.java:849)\r",
      "\tat org.apache.hadoop.fs.RawLocalFileSystem.setPermission(RawLocalFileSystem.java:733)\r",
      "\tat org.apache.hadoop.fs.RawLocalFileSystem$LocalFSFileOutputStream.<init>(RawLocalFileSystem.java:225)\r",
      "\tat org.apache.hadoop.fs.RawLocalFileSystem$LocalFSFileOutputStream.<init>(RawLocalFileSystem.java:209)\r",
      "\tat org.apache.hadoop.fs.RawLocalFileSystem.createOutputStreamWithMode(RawLocalFileSystem.java:307)\r",
      "\tat org.apache.hadoop.fs.RawLocalFileSystem.create(RawLocalFileSystem.java:296)\r",
      "\tat org.apache.hadoop.fs.RawLocalFileSystem.create(RawLocalFileSystem.java:328)\r",
      "\tat org.apache.hadoop.fs.ChecksumFileSystem$ChecksumFSOutputSummer.<init>(ChecksumFileSystem.java:398)\r",
      "\tat org.apache.hadoop.fs.ChecksumFileSystem.create(ChecksumFileSystem.java:461)\r",
      "\tat org.apache.hadoop.fs.ChecksumFileSystem.create(ChecksumFileSystem.java:440)\r",
      "\tat org.apache.hadoop.fs.FileSystem.create(FileSystem.java:911)\r",
      "\tat org.apache.hadoop.fs.FileSystem.create(FileSystem.java:892)\r",
      "\tat org.apache.parquet.hadoop.util.HadoopOutputFile.create(HadoopOutputFile.java:74)\r",
      "\tat org.apache.parquet.hadoop.ParquetFileWriter.<init>(ParquetFileWriter.java:248)\r",
      "\tat org.apache.parquet.hadoop.ParquetOutputFormat.getRecordWriter(ParquetOutputFormat.java:390)\r",
      "\tat org.apache.parquet.hadoop.ParquetOutputFormat.getRecordWriter(ParquetOutputFormat.java:349)\r",
      "\tat org.apache.spark.sql.execution.datasources.parquet.ParquetOutputWriter.<init>(ParquetOutputWriter.scala:37)\r",
      "\tat org.apache.spark.sql.execution.datasources.parquet.ParquetFileFormat$$anon$1.newInstance(ParquetFileFormat.scala:151)\r",
      "\tat org.apache.spark.sql.execution.datasources.SingleDirectoryDataWriter.newOutputWriter(FileFormatDataWriter.scala:120)\r",
      "\tat org.apache.spark.sql.execution.datasources.SingleDirectoryDataWriter.<init>(FileFormatDataWriter.scala:108)\r",
      "\tat org.apache.spark.sql.execution.datasources.FileFormatWriter$.org$apache$spark$sql$execution$datasources$FileFormatWriter$$executeTask(FileFormatWriter.scala:236)\r",
      "\tat org.apache.spark.sql.execution.datasources.FileFormatWriter$$anonfun$write$1.apply(FileFormatWriter.scala:170)\r",
      "\tat org.apache.spark.sql.execution.datasources.FileFormatWriter$$anonfun$write$1.apply(FileFormatWriter.scala:169)\r",
      "\tat org.apache.spark.scheduler.ResultTask.runTask(ResultTask.scala:90)\r",
      "\tat org.apache.spark.scheduler.Task.run(Task.scala:123)\r",
      "\tat org.apache.spark.executor.Executor$TaskRunner$$anonfun$10.apply(Executor.scala:408)\r",
      "\tat org.apache.spark.util.Utils$.tryWithSafeFinally(Utils.scala:1360)\r",
      "\tat org.apache.spark.executor.Executor$TaskRunner.run(Executor.scala:414)\r",
      "\tat java.util.concurrent.ThreadPoolExecutor.runWorker(Unknown Source)\r",
      "\tat java.util.concurrent.ThreadPoolExecutor$Worker.run(Unknown Source)\r",
      "\tat java.lang.Thread.run(Unknown Source)\r",
      "\r",
      "Driver stacktrace:\r",
      "  at org.apache.spark.scheduler.DAGScheduler.org$apache$spark$scheduler$DAGScheduler$$failJobAndIndependentStages(DAGScheduler.scala:1925)\r",
      "  at org.apache.spark.scheduler.DAGScheduler$$anonfun$abortStage$1.apply(DAGScheduler.scala:1913)\r",
      "  at org.apache.spark.scheduler.DAGScheduler$$anonfun$abortStage$1.apply(DAGScheduler.scala:1912)\r",
      "  at scala.collection.mutable.ResizableArray$class.foreach(ResizableArray.scala:59)\r",
      "  at scala.collection.mutable.ArrayBuffer.foreach(ArrayBuffer.scala:48)\r",
      "  at org.apache.spark.scheduler.DAGScheduler.abortStage(DAGScheduler.scala:1912)\r",
      "  at org.apache.spark.scheduler.DAGScheduler$$anonfun$handleTaskSetFailed$1.apply(DAGScheduler.scala:948)\r",
      "  at org.apache.spark.scheduler.DAGScheduler$$anonfun$handleTaskSetFailed$1.apply(DAGScheduler.scala:948)\r",
      "  at scala.Option.foreach(Option.scala:257)\r",
      "  at org.apache.spark.scheduler.DAGScheduler.handleTaskSetFailed(DAGScheduler.scala:948)\r",
      "  at org.apache.spark.scheduler.DAGSchedulerEventProcessLoop.doOnReceive(DAGScheduler.scala:2146)\r",
      "  at org.apache.spark.scheduler.DAGSchedulerEventProcessLoop.onReceive(DAGScheduler.scala:2095)\r",
      "  at org.apache.spark.scheduler.DAGSchedulerEventProcessLoop.onReceive(DAGScheduler.scala:2084)\r",
      "  at org.apache.spark.util.EventLoop$$anon$1.run(EventLoop.scala:49)\r",
      "  at org.apache.spark.scheduler.DAGScheduler.runJob(DAGScheduler.scala:759)\r",
      "  at org.apache.spark.SparkContext.runJob(SparkContext.scala:2061)\r",
      "  at org.apache.spark.sql.execution.datasources.FileFormatWriter$.write(FileFormatWriter.scala:167)\r",
      "  ... 64 more\r",
      "Caused by: java.io.IOException: (null) entry in command string: null chmod 0644 C:\\Users\\user\\Documents\\PROGRAMATION FONCTIONNELLE\\Projet Spark\\tableau.parquet\\_temporary\\0\\_temporary\\attempt_20210110234449_0056_m_000000_1052\\part-00000-01cfc97c-ed01-4466-9420-b807e0d763a4-c000.parquet\r",
      "  at org.apache.hadoop.util.Shell$ShellCommandExecutor.execute(Shell.java:770)\r",
      "  at org.apache.hadoop.util.Shell.execCommand(Shell.java:866)\r",
      "  at org.apache.hadoop.util.Shell.execCommand(Shell.java:849)\r",
      "  at org.apache.hadoop.fs.RawLocalFileSystem.setPermission(RawLocalFileSystem.java:733)\r",
      "  at org.apache.hadoop.fs.RawLocalFileSystem$LocalFSFileOutputStream.<init>(RawLocalFileSystem.java:225)\r",
      "  at org.apache.hadoop.fs.RawLocalFileSystem$LocalFSFileOutputStream.<init>(RawLocalFileSystem.java:209)\r",
      "  at org.apache.hadoop.fs.RawLocalFileSystem.createOutputStreamWithMode(RawLocalFileSystem.java:307)\r",
      "  at org.apache.hadoop.fs.RawLocalFileSystem.create(RawLocalFileSystem.java:296)\r",
      "  at org.apache.hadoop.fs.RawLocalFileSystem.create(RawLocalFileSystem.java:328)\r",
      "  at org.apache.hadoop.fs.ChecksumFileSystem$ChecksumFSOutputSummer.<init>(ChecksumFileSystem.java:398)\r",
      "  at org.apache.hadoop.fs.ChecksumFileSystem.create(ChecksumFileSystem.java:461)\r",
      "  at org.apache.hadoop.fs.ChecksumFileSystem.create(ChecksumFileSystem.java:440)\r",
      "  at org.apache.hadoop.fs.FileSystem.create(FileSystem.java:911)\r",
      "  at org.apache.hadoop.fs.FileSystem.create(FileSystem.java:892)\r",
      "  at org.apache.parquet.hadoop.util.HadoopOutputFile.create(HadoopOutputFile.java:74)\r",
      "  at org.apache.parquet.hadoop.ParquetFileWriter.<init>(ParquetFileWriter.java:248)\r",
      "  at org.apache.parquet.hadoop.ParquetOutputFormat.getRecordWriter(ParquetOutputFormat.java:390)\r",
      "  at org.apache.parquet.hadoop.ParquetOutputFormat.getRecordWriter(ParquetOutputFormat.java:349)\r",
      "  at org.apache.spark.sql.execution.datasources.parquet.ParquetOutputWriter.<init>(ParquetOutputWriter.scala:37)\r",
      "  at org.apache.spark.sql.execution.datasources.parquet.ParquetFileFormat$$anon$1.newInstance(ParquetFileFormat.scala:151)\r",
      "  at org.apache.spark.sql.execution.datasources.SingleDirectoryDataWriter.newOutputWriter(FileFormatDataWriter.scala:120)\r",
      "  at org.apache.spark.sql.execution.datasources.SingleDirectoryDataWriter.<init>(FileFormatDataWriter.scala:108)\r",
      "  at org.apache.spark.sql.execution.datasources.FileFormatWriter$.org$apache$spark$sql$execution$datasources$FileFormatWriter$$executeTask(FileFormatWriter.scala:236)\r",
      "  at org.apache.spark.sql.execution.datasources.FileFormatWriter$$anonfun$write$1.apply(FileFormatWriter.scala:170)\r",
      "  at org.apache.spark.sql.execution.datasources.FileFormatWriter$$anonfun$write$1.apply(FileFormatWriter.scala:169)\r",
      "  at org.apache.spark.scheduler.ResultTask.runTask(ResultTask.scala:90)\r",
      "  at org.apache.spark.scheduler.Task.run(Task.scala:123)\r",
      "  at org.apache.spark.executor.Executor$TaskRunner$$anonfun$10.apply(Executor.scala:408)\r",
      "  at org.apache.spark.util.Utils$.tryWithSafeFinally(Utils.scala:1360)\r",
      "  at org.apache.spark.executor.Executor$TaskRunner.run(Executor.scala:414)\r",
      "  at java.util.concurrent.ThreadPoolExecutor.runWorker(Unknown Source)\r",
      "  at java.util.concurrent.ThreadPoolExecutor$Worker.run(Unknown Source)\r",
      "  ... 1 more",
      ""
     ]
    }
   ],
   "source": [
    "//Reponse 9\n",
    "\n",
    "fireTSDF.\n",
    "      write.\n",
    "      mode(\"overwrite\").\n",
    "      option(\"compression\", \"none\").\n",
    "      parquet(\"tableau.parquet\")"
   ]
  },
  {
   "cell_type": "markdown",
   "metadata": {},
   "source": [
    "### Question 10\n",
    "**Comment relire les données stockée en format Parquet?**"
   ]
  },
  {
   "cell_type": "code",
   "execution_count": 84,
   "metadata": {},
   "outputs": [
    {
     "ename": "org.apache.spark.sql.AnalysisException",
     "evalue": " Unable to infer schema for Parquet. It must be specified manually.;\r",
     "output_type": "error",
     "traceback": [
      "org.apache.spark.sql.AnalysisException: Unable to infer schema for Parquet. It must be specified manually.;\r",
      "  at org.apache.spark.sql.execution.datasources.DataSource$$anonfun$7.apply(DataSource.scala:199)\r",
      "  at org.apache.spark.sql.execution.datasources.DataSource$$anonfun$7.apply(DataSource.scala:199)\r",
      "  at scala.Option.getOrElse(Option.scala:121)\r",
      "  at org.apache.spark.sql.execution.datasources.DataSource.getOrInferFileFormatSchema(DataSource.scala:198)\r",
      "  at org.apache.spark.sql.execution.datasources.DataSource.resolveRelation(DataSource.scala:387)\r",
      "  at org.apache.spark.sql.DataFrameReader.loadV1Source(DataFrameReader.scala:242)\r",
      "  at org.apache.spark.sql.DataFrameReader.load(DataFrameReader.scala:230)\r",
      "  at org.apache.spark.sql.DataFrameReader.parquet(DataFrameReader.scala:664)\r",
      "  at org.apache.spark.sql.DataFrameReader.parquet(DataFrameReader.scala:648)\r",
      "  ... 42 elided",
      ""
     ]
    }
   ],
   "source": [
    "//Reponse 10\n",
    "\n",
    "spark.read.parquet(\"tableau.parquet\").show\n"
   ]
  },
  {
   "cell_type": "markdown",
   "metadata": {},
   "source": [
    "## FIN"
   ]
  }
 ],
 "metadata": {
  "kernelspec": {
   "display_name": "spylon-kernel",
   "language": "scala",
   "name": "spylon-kernel"
  },
  "language_info": {
   "codemirror_mode": "text/x-scala",
   "file_extension": ".scala",
   "help_links": [
    {
     "text": "MetaKernel Magics",
     "url": "https://metakernel.readthedocs.io/en/latest/source/README.html"
    }
   ],
   "mimetype": "text/x-scala",
   "name": "scala",
   "pygments_lexer": "scala",
   "version": "0.4.1"
  }
 },
 "nbformat": 4,
 "nbformat_minor": 4
}
